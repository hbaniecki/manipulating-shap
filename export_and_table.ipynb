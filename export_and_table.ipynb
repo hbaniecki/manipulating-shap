{
 "cells": [
  {
   "cell_type": "code",
   "execution_count": 1,
   "metadata": {},
   "outputs": [],
   "source": [
    "import pandas as pd\n",
    "\n",
    "data_cl = pd.read_pickle(\"results/final-heart-local_data.p\")\n",
    "explanation_cl = pd.read_pickle(\"results/final-heart-local_explanation.p\")\n",
    "losses_cl = pd.read_pickle(\"results/final-heart-local_losses.p\")\n",
    "data_cl.to_csv(\"results/final-heart-local_data.csv\", index=False)\n",
    "pd.DataFrame(explanation_cl).to_csv(\"results/final-heart-local_explanation.csv\", index=False)\n",
    "pd.DataFrame(losses_cl).to_csv(\"results/final-heart-local_losses.csv\", index=False)"
   ]
  },
  {
   "cell_type": "code",
   "execution_count": 2,
   "metadata": {},
   "outputs": [
    {
     "data": {
      "text/plain": [
       "KendalltauResult(correlation=0.6, pvalue=0.1361111111111111)"
      ]
     },
     "execution_count": 2,
     "metadata": {},
     "output_type": "execute_result"
    }
   ],
   "source": [
    "from scipy import stats\n",
    "stats.kendalltau([0, 1, 2, 3, 4, 5], [0, 2, 3, 4, 1, 5])"
   ]
  },
  {
   "cell_type": "code",
   "execution_count": 6,
   "metadata": {},
   "outputs": [
    {
     "data": {
      "text/plain": [
       "0.2"
      ]
     },
     "execution_count": 6,
     "metadata": {},
     "output_type": "execute_result"
    }
   ],
   "source": [
    "(1 - stats.kendalltau([0, 1, 2, 3, 4, 5], [0, 2, 3, 4, 1, 5]).correlation) / 2 # kendall tau distance (normalized)"
   ]
  },
  {
   "cell_type": "code",
   "execution_count": 1,
   "metadata": {},
   "outputs": [],
   "source": [
    "import pandas as pd\n",
    "\n",
    "data_rg = pd.read_pickle(\"results/final-apartment-global_data.p\")\n",
    "explanation_rg = pd.read_pickle(\"results/final-apartment-global_explanation.p\")\n",
    "losses_rg = pd.read_pickle(\"results/final-apartment-global_losses.p\")\n",
    "data_rg.to_csv(\"results/final-apartment-global_data.csv\", index=False)\n",
    "pd.DataFrame(explanation_rg).to_csv(\"results/final-apartment-global_explanation.csv\", index=False)\n",
    "pd.DataFrame(losses_rg).to_csv(\"results/final-apartment-global_losses.csv\", index=False)"
   ]
  },
  {
   "cell_type": "code",
   "execution_count": 2,
   "metadata": {},
   "outputs": [
    {
     "data": {
      "text/plain": [
       "KendalltauResult(correlation=0.8571428571428571, pvalue=0.001736111111111111)"
      ]
     },
     "execution_count": 2,
     "metadata": {},
     "output_type": "execute_result"
    }
   ],
   "source": [
    "from scipy import stats\n",
    "stats.kendalltau([0, 1, 2, 3, 4, 5, 6, 7], [0, 1, 2, 4, 3, 5, 7, 6])"
   ]
  },
  {
   "cell_type": "code",
   "execution_count": 7,
   "metadata": {},
   "outputs": [
    {
     "data": {
      "text/plain": [
       "0.07142857142857145"
      ]
     },
     "execution_count": 7,
     "metadata": {},
     "output_type": "execute_result"
    }
   ],
   "source": [
    "(1 - stats.kendalltau([0, 1, 2, 3, 4, 5, 6, 7], [0, 1, 2, 4, 3, 5, 7, 6]).correlation) / 2 # kendall tau distance (normalized)"
   ]
  },
  {
   "cell_type": "code",
   "execution_count": 36,
   "metadata": {},
   "outputs": [],
   "source": [
    "import matplotlib.pyplot as plt\n",
    "import seaborn as sns\n",
    "plt.rcParams[\"legend.handlelength\"] = 0.1\n",
    "_colors = [\"#4378bf\", \"#f05a71\"]\n",
    "_df = data_rg\n",
    "_df.columns = [\"x\"+str(i) for i in range(1, 6)] + [\"dataset\"]\n",
    "ax = sns.pairplot(_df, hue='dataset', height=2, palette=_colors)\n",
    "ax._legend.set_bbox_to_anchor((0.595, 0.57))\n",
    "plt.show()"
   ]
  },
  {
   "cell_type": "code",
   "execution_count": 37,
   "metadata": {},
   "outputs": [],
   "source": [
    "import matplotlib.pyplot as plt\n",
    "import seaborn as sns\n",
    "plt.rcParams[\"legend.handlelength\"] = 0.1\n",
    "_colors = [\"#4378bf\", \"#f05a71\"]\n",
    "_df = data_cl\n",
    "_df.columns = [\"x\"+str(i) for i in range(1, 5)] + [\"dataset\"]\n",
    "ax = sns.pairplot(_df, hue='dataset', height=2, palette=_colors)\n",
    "ax._legend.set_bbox_to_anchor((0.595, 0.49))\n",
    "plt.show()"
   ]
  },
  {
   "cell_type": "markdown",
   "metadata": {},
   "source": [
    "## Intuition https://github.com/scipy/scipy/issues/7089"
   ]
  },
  {
   "cell_type": "code",
   "execution_count": 76,
   "metadata": {},
   "outputs": [
    {
     "data": {
      "text/plain": [
       "{'original': array([ 0.13234342, -0.00347919,  0.0789294 ,  0.11733973, -0.04085725,\n",
       "         0.18711245]),\n",
       " 'changed': array([ 0.07221443, -0.04442396,  0.12214721,  0.15877014, -0.08531101,\n",
       "         0.22907255]),\n",
       " 'target': array([-0.005     , -0.04759366,  0.12304387,  0.1614542 , -0.08497172,\n",
       "         0.23122693])}"
      ]
     },
     "execution_count": 76,
     "metadata": {},
     "output_type": "execute_result"
    }
   ],
   "source": [
    "explanation_cl = pd.read_pickle(\"results/final-heart-local_explanation.p\")\n",
    "explanation_cl"
   ]
  },
  {
   "cell_type": "code",
   "execution_count": 77,
   "metadata": {},
   "outputs": [
    {
     "name": "stdout",
     "output_type": "stream",
     "text": [
      "Pearson's r correlation coefficient: 0.80\n",
      "Kendall's tau correlation coefficient: 0.60\n"
     ]
    },
    {
     "data": {
      "image/png": "[encoded data removed]",
      "text/plain": [
       "<Figure size 432x288 with 1 Axes>"
      ]
     },
     "metadata": {
      "needs_background": "light"
     },
     "output_type": "display_data"
    }
   ],
   "source": [
    "import matplotlib.pyplot as plt\n",
    "from scipy.stats import kendalltau, pearsonr\n",
    "import numpy as np\n",
    "\n",
    "def plot_data(x, y, labels):\n",
    "    plt.scatter(x, y)\n",
    "    for xi, yi, lab in zip(x, y, labels):\n",
    "        plt.annotate(lab, (xi, yi), xytext=(3, 3), textcoords=\"offset points\", ha='left', va='bottom')\n",
    "    # plt.axis([-1, 6, -1, 6])\n",
    "    plt.axis([-0.05, 0.25, -0.05, 0.25])\n",
    "\n",
    "labels = ['A', 'B', 'C', 'D', 'E', 'F']\n",
    "\n",
    "# x = [0, 1, 2, 3, 4, 5]\n",
    "# y = [0, 2, 3, 4, 1, 5]\n",
    "\n",
    "x = np.abs(explanation_cl['original'])\n",
    "y = np.abs(explanation_cl['changed'])\n",
    "\n",
    "print(\"Pearson\\'s r correlation coefficient: {:.2f}\".format(pearsonr(x, y)[0]))\n",
    "print(\"Kendall\\'s tau correlation coefficient: {:.2f}\".format(kendalltau(x, y)[0]))\n",
    "plot_data(x, y, labels)"
   ]
  }
 ],
 "metadata": {
  "kernelspec": {
   "display_name": "Python 3.9.2 64-bit",
   "language": "python",
   "name": "python3"
  },
  "language_info": {
   "codemirror_mode": {
    "name": "ipython",
    "version": 3
   },
   "file_extension": ".py",
   "mimetype": "text/x-python",
   "name": "python",
   "nbconvert_exporter": "python",
   "pygments_lexer": "ipython3",
   "version": "3.9.2"
  },
  "orig_nbformat": 4,
  "vscode": {
   "interpreter": {
    "hash": "451a814e2b7114d22b49e8857ff8d054e800f4ea50fae0dac5b17c2fac07709f"
   }
  }
 },
 "nbformat": 4,
 "nbformat_minor": 2
}
