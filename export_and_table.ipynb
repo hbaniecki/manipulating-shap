{
 "cells": [
  {
   "cell_type": "code",
   "execution_count": 1,
   "source": [
    "import pandas as pd\r\n",
    "\r\n",
    "data_cl = pd.read_pickle(\"results/final-heart-local_data.p\")\r\n",
    "explanation_cl = pd.read_pickle(\"results/final-heart-local_explanation.p\")\r\n",
    "losses_cl = pd.read_pickle(\"results/final-heart-local_losses.p\")\r\n",
    "data_cl.to_csv(\"results/final-heart-local_data.csv\", index=False)\r\n",
    "pd.DataFrame(explanation_cl).to_csv(\"results/final-heart-local_explanation.csv\", index=False)\r\n",
    "pd.DataFrame(losses_cl).to_csv(\"results/final-heart-local_losses.csv\", index=False)"
   ],
   "outputs": [],
   "metadata": {}
  },
  {
   "cell_type": "code",
   "execution_count": 5,
   "source": [
    "from scipy import stats\r\n",
    "stats.kendalltau([0, 1, 2, 3, 4, 5], [0, 2, 3, 4, 1, 5])"
   ],
   "outputs": [
    {
     "output_type": "execute_result",
     "data": {
      "text/plain": [
       "KendalltauResult(correlation=0.6, pvalue=0.1361111111111111)"
      ]
     },
     "metadata": {},
     "execution_count": 5
    }
   ],
   "metadata": {}
  },
  {
   "cell_type": "code",
   "execution_count": 1,
   "source": [
    "import pandas as pd\r\n",
    "\r\n",
    "data_rg = pd.read_pickle(\"results/final-apartment-global_data.p\")\r\n",
    "explanation_rg = pd.read_pickle(\"results/final-apartment-global_explanation.p\")\r\n",
    "losses_rg = pd.read_pickle(\"results/final-apartment-global_losses.p\")\r\n",
    "data_rg.to_csv(\"results/final-apartment-global_data.csv\", index=False)\r\n",
    "pd.DataFrame(explanation_rg).to_csv(\"results/final-apartment-global_explanation.csv\", index=False)\r\n",
    "pd.DataFrame(losses_rg).to_csv(\"results/final-apartment-global_losses.csv\", index=False)"
   ],
   "outputs": [],
   "metadata": {}
  },
  {
   "cell_type": "code",
   "execution_count": 2,
   "source": [
    "from scipy import stats\r\n",
    "stats.kendalltau([0, 1, 2, 3, 4, 5, 6, 7], [0, 1, 2, 4, 3, 5, 7, 6])"
   ],
   "outputs": [
    {
     "output_type": "execute_result",
     "data": {
      "text/plain": [
       "KendalltauResult(correlation=0.8571428571428571, pvalue=0.001736111111111111)"
      ]
     },
     "metadata": {},
     "execution_count": 2
    }
   ],
   "metadata": {}
  },
  {
   "cell_type": "code",
   "execution_count": 36,
   "source": [
    "import matplotlib.pyplot as plt\r\n",
    "import seaborn as sns\r\n",
    "plt.rcParams[\"legend.handlelength\"] = 0.1\r\n",
    "_colors = [\"#4378bf\", \"#f05a71\"]\r\n",
    "_df = data_rg\r\n",
    "_df.columns = [\"x\"+str(i) for i in range(1, 6)] + [\"dataset\"]\r\n",
    "ax = sns.pairplot(_df, hue='dataset', height=2, palette=_colors)\r\n",
    "ax._legend.set_bbox_to_anchor((0.595, 0.57))\r\n",
    "plt.show()"
   ],
   "outputs": [],
   "metadata": {}
  },
  {
   "cell_type": "code",
   "execution_count": 37,
   "source": [
    "import matplotlib.pyplot as plt\r\n",
    "import seaborn as sns\r\n",
    "plt.rcParams[\"legend.handlelength\"] = 0.1\r\n",
    "_colors = [\"#4378bf\", \"#f05a71\"]\r\n",
    "_df = data_cl\r\n",
    "_df.columns = [\"x\"+str(i) for i in range(1, 5)] + [\"dataset\"]\r\n",
    "ax = sns.pairplot(_df, hue='dataset', height=2, palette=_colors)\r\n",
    "ax._legend.set_bbox_to_anchor((0.595, 0.49))\r\n",
    "plt.show()"
   ],
   "outputs": [],
   "metadata": {}
  },
  {
   "cell_type": "code",
   "execution_count": null,
   "source": [],
   "outputs": [],
   "metadata": {}
  }
 ],
 "metadata": {
  "orig_nbformat": 4,
  "language_info": {
   "name": "python",
   "version": "3.9.2",
   "mimetype": "text/x-python",
   "codemirror_mode": {
    "name": "ipython",
    "version": 3
   },
   "pygments_lexer": "ipython3",
   "nbconvert_exporter": "python",
   "file_extension": ".py"
  },
  "kernelspec": {
   "name": "python3",
   "display_name": "Python 3.9.2 64-bit"
  },
  "interpreter": {
   "hash": "6ab6057dad60620dec75a45f968cfcb183b6d526d8d16dda8af77d690bdae944"
  }
 },
 "nbformat": 4,
 "nbformat_minor": 2
}